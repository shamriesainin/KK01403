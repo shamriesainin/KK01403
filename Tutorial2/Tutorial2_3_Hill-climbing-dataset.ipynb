{
 "cells": [
  {
   "cell_type": "code",
   "execution_count": 2,
   "metadata": {},
   "outputs": [
    {
     "name": "stdout",
     "output_type": "stream",
     "text": [
      "(768, 8) (768,)\n",
      "(514, 8) (254, 8) (514,) (254,)\n",
      "[0, 0, 0, 0, 0, 0, 0, 0, 0, 0, 0, 0, 1, 1, 0, 1, 1, 0, 0, 0, 1, 1, 1, 1, 0, 0, 0, 1, 0, 1, 1, 0, 0, 1, 0, 1, 0, 0, 0, 0, 0, 0, 0, 1, 0, 0, 1, 1, 0, 1, 0, 0, 1, 0, 1, 0, 1, 0, 0, 0, 0, 0, 1, 0, 1, 0, 1, 1, 0, 1, 1, 0, 0, 0, 1, 1, 1, 0, 0, 1, 1, 0, 1, 1, 0, 0, 1, 0, 0, 0, 0, 0, 0, 0, 1, 0, 0, 0, 1, 0, 0, 0, 1, 0, 0, 0, 1, 0, 1, 0, 1, 0, 0, 0, 1, 0, 0, 1, 0, 1, 0, 1, 1, 0, 0, 0, 0, 1, 0, 0, 1, 0, 1, 0, 0, 0, 0, 0, 1, 0, 1, 0, 0, 1, 1, 1, 0, 0, 1, 0, 0, 1, 0, 0, 1, 1, 0, 0, 0, 0, 1, 1, 0, 0, 1, 0, 1, 1, 0, 0, 1, 1, 0, 0, 1, 0, 1, 0, 0, 0, 1, 0, 0, 1, 0, 0, 0, 0, 1, 0, 0, 0, 0, 0, 1, 0, 0, 0, 1, 1, 1, 0, 0, 0, 1, 1, 0, 0, 0, 1, 0, 0, 1, 1, 0, 1, 1, 0, 0, 1, 0, 0, 0, 1, 1, 0, 0, 0, 0, 1, 1, 1, 0, 0, 0, 0, 0, 0, 1, 0, 1, 0, 0, 1, 0, 0, 1, 0, 0, 0, 0, 1, 0, 1]\n"
     ]
    },
    {
     "data": {
      "image/png": "[encoded data removed]",
      "text/plain": [
       "<Figure size 432x288 with 1 Axes>"
      ]
     },
     "metadata": {
      "needs_background": "light"
     },
     "output_type": "display_data"
    }
   ],
   "source": [
    "# example of hill climbing the test set for the diabetes dataset\n",
    "from random import randint\n",
    "from pandas import read_csv\n",
    "from sklearn.model_selection import train_test_split\n",
    "from sklearn.metrics import accuracy_score\n",
    "from matplotlib import pyplot\n",
    "\n",
    "# load or prepare the classification dataset\n",
    "def load_dataset():\n",
    "    data = 'pima-indians-diabetes.csv'\n",
    "    df = read_csv(data, header=None)\n",
    "    data = df.values\n",
    "    return data[:, :-1], data[:, -1]\n",
    "\n",
    "# evaluate a set of predictions\n",
    "# as an objective function through accuracy score\n",
    "#built-in scoring from sklearn\n",
    "def evaluate_predictions(y_test, yhat):\n",
    "    return accuracy_score(y_test, yhat)\n",
    "\n",
    "# create a random set of predictions\n",
    "def random_predictions(n_examples):\n",
    "    return [randint(0, 1) for _ in range(n_examples)]\n",
    "\n",
    "# modify the current set of predictions\n",
    "def modify_predictions(current, n_changes=1):\n",
    "    # copy current solution\n",
    "    updated = current.copy()\n",
    "    for i in range(n_changes):\n",
    "        # select a point to change\n",
    "        ix = randint(0, len(updated)-1)\n",
    "        # flip the class label\n",
    "        updated[ix] = 1 - updated[ix]\n",
    "    return updated\n",
    "\n",
    "# run a hill climb for a set of predictions\n",
    "def hill_climb_testset(X_test, y_test, max_iterations):\n",
    "    scores = list()\n",
    "    # generate the initial solution\n",
    "    solution = random_predictions(X_test.shape[0])\n",
    "    # evaluate the initial solution\n",
    "    score = evaluate_predictions(y_test, solution)\n",
    "    scores.append(score)\n",
    "    # hill climb to a solution\n",
    "    for i in range(max_iterations):\n",
    "        # record scores\n",
    "        scores.append(score)\n",
    "        # stop once we achieve the best score\n",
    "        if score == 1.0:\n",
    "            break\n",
    "        # generate new candidate\n",
    "        candidate = modify_predictions(solution)\n",
    "        # evaluate candidate\n",
    "        value = evaluate_predictions(y_test, candidate)\n",
    "        # check if it is as good or better\n",
    "        if value >= score:\n",
    "            solution, score = candidate, value\n",
    "            #print('>%d, score=%.3f' % (i, score))\n",
    "    return solution, scores\n",
    "\n",
    "# load the dataset\n",
    "X, y = load_dataset()\n",
    "print(X.shape, y.shape)\n",
    "# split dataset into train and test sets\n",
    "X_train, X_test, y_train, y_test = train_test_split(X, y, test_size=0.33, random_state=1)\n",
    "print(X_train.shape, X_test.shape, y_train.shape, y_test.shape)\n",
    "# run hill climb\n",
    "yhat, scores = hill_climb_testset(X_test, y_test, 5000)\n",
    "# plot the scores vs iterations\n",
    "pyplot.plot(scores)\n",
    "pyplot.show()"
   ]
  }
 ],
 "metadata": {
  "kernelspec": {
   "display_name": "Python 3",
   "language": "python",
   "name": "python3"
  },
  "language_info": {
   "codemirror_mode": {
    "name": "ipython",
    "version": 3
   },
   "file_extension": ".py",
   "mimetype": "text/x-python",
   "name": "python",
   "nbconvert_exporter": "python",
   "pygments_lexer": "ipython3",
   "version": "3.7.7"
  }
 },
 "nbformat": 4,
 "nbformat_minor": 4
}
