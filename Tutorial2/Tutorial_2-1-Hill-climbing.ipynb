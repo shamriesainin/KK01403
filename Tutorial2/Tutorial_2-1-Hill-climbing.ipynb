{
 "cells": [
  {
   "cell_type": "markdown",
   "metadata": {},
   "source": [
    "# hill climbing search of a one-dimensional objective function\n",
    "Implementing a Stochastic Hill Climbing to a objective function"
   ]
  },
  {
   "cell_type": "code",
   "execution_count": null,
   "metadata": {},
   "outputs": [],
   "source": [
    "from numpy import asarray\n",
    "from numpy.random import randn\n",
    "from numpy.random import rand\n",
    "from numpy.random import seed\n",
    "from numpy import arange"
   ]
  },
  {
   "cell_type": "markdown",
   "metadata": {},
   "source": [
    "Sample objective function and plot"
   ]
  },
  {
   "cell_type": "code",
   "execution_count": null,
   "metadata": {},
   "outputs": [],
   "source": [
    "# objective function\n",
    "def objective(x):\n",
    "    return x[0]**2.0\n",
    "\n",
    "# define range for input\n",
    "bounds = asarray([[-5.0, 5.0]])\n",
    "\n",
    "# sample input range uniformly at 0.5 increments\n",
    "inputs = arange(r_min, r_max, 0.1)\n",
    "\n",
    "#test the function\n",
    "results = [objective([x]) for x in inputs]\n",
    "\n",
    "# create a line plot of input vs result\n",
    "pyplot.plot(inputs, results)\n",
    "# define optimal input value\n",
    "x_optima = 0.0\n",
    "# draw a vertical line at the optimal input\n",
    "pyplot.axvline(x=x_optima, ls='--', color='red')\n",
    "# show the plot\n",
    "pyplot.show()"
   ]
  },
  {
   "cell_type": "markdown",
   "metadata": {},
   "source": [
    "The hill climbing algorithm"
   ]
  },
  {
   "cell_type": "code",
   "execution_count": null,
   "metadata": {},
   "outputs": [],
   "source": [
    "# hill climbing local search algorithm\n",
    "def hillclimbing(objective, bounds, n_iterations, step_size):\n",
    "    # generate an initial point\n",
    "    solution = bounds[:, 0] + rand(len(bounds)) * (bounds[:, 1] - bounds[:, 0])\n",
    "    # evaluate the initial point\n",
    "    solution_eval = objective(solution)\n",
    "    # run the hill climb\n",
    "    for i in range(n_iterations):\n",
    "        # take a step\n",
    "        candidate = solution + randn(len(bounds)) * step_size\n",
    "        # evaluate candidate point\n",
    "        candidte_eval = objective(candidate)\n",
    "        # check if we should keep the new point\n",
    "        if candidte_eval <= solution_eval:\n",
    "            # store the new point\n",
    "            solution, solution_eval = candidate, candidte_eval\n",
    "            # report progress\n",
    "            print('>%d f(%s) = %.5f' % (i, solution, solution_eval))\n",
    "    return [solution, solution_eval]"
   ]
  },
  {
   "cell_type": "code",
   "execution_count": null,
   "metadata": {},
   "outputs": [],
   "source": [
    "# seed the pseudorandom number generator\n",
    "seed(5)\n",
    "\n",
    "# define the total iterations\n",
    "n_iterations = 1000\n",
    "\n",
    "# define the maximum step size\n",
    "step_size = 0.1"
   ]
  },
  {
   "cell_type": "markdown",
   "metadata": {},
   "source": [
    "Complete implementation"
   ]
  },
  {
   "cell_type": "code",
   "execution_count": null,
   "metadata": {},
   "outputs": [],
   "source": [
    "# hill climbing search of a one-dimensional objective function\n",
    "from numpy import asarray\n",
    "from numpy.random import randn\n",
    "from numpy.random import rand\n",
    "from numpy.random import seed\n",
    "from matplotlib import pyplot\n",
    "\n",
    "# objective function\n",
    "def objective(x):\n",
    "    return x[0]**2.0\n",
    "\n",
    "# hill climbing local search algorithm\n",
    "def hillclimbing(bounds, n_iterations, step_size):\n",
    "    # generate an initial point\n",
    "    solution = bounds[:, 0] + rand(len(bounds)) * (bounds[:, 1] - bounds[:, 0])\n",
    "    # evaluate the initial point\n",
    "    solution_eval = objective(solution)\n",
    "    # run the hill climb\n",
    "    scores = list()\n",
    "    scores.append(solution_eval)\n",
    "    for i in range(n_iterations):\n",
    "        # take a step\n",
    "        candidate = solution + randn(len(bounds)) * step_size\n",
    "        # evaluate candidate point\n",
    "        candidte_eval = objective(candidate)\n",
    "        # check if we should keep the new point\n",
    "        if candidte_eval <= solution_eval:\n",
    "            # store the new point\n",
    "            solution, solution_eval = candidate, candidte_eval\n",
    "            # keep track of scores\n",
    "            scores.append(solution_eval)\n",
    "            # report progress\n",
    "            print('>%d f(%s) = %.5f' % (i, solution, solution_eval))\n",
    "    return [solution, solution_eval, scores]\n",
    "\n",
    "# seed the pseudorandom number generator\n",
    "seed(5)\n",
    "# define range for input\n",
    "bounds = asarray([[-5.0, 5.0]])\n",
    "# define the total iterations\n",
    "n_iterations = 1000\n",
    "# define the maximum step size\n",
    "step_size = 0.1\n",
    "# perform the hill climbing search\n",
    "best, score, scores = hillclimbing(bounds, n_iterations, step_size)\n",
    "print('Done!')\n",
    "print('f(%s) = %f' % (best, score))\n",
    "# line plot of best scores\n",
    "pyplot.plot(scores, '.-')\n",
    "pyplot.xlabel('Improvement Number')\n",
    "pyplot.ylabel('Evaluation f(x)')\n",
    "pyplot.show()"
   ]
  },
  {
   "cell_type": "markdown",
   "metadata": {},
   "source": [
    "Exercise:\n",
    "Given the following optimization problem\n",
    "x = [x0, x1, x2, x3, x4] which maximizes its sum.\n",
    "\n",
    "If each of the elements of x can only take the values 0 or 1, write a hill climbing optimization that will return the solution.\n",
    "a. formulate the objective function and its constraint\n",
    "b. write a Python code to implement this optimization.\n",
    "c. do you need step size in this implementation? why?"
   ]
  }
 ],
 "metadata": {
  "kernelspec": {
   "display_name": "Python 3",
   "language": "python",
   "name": "python3"
  },
  "language_info": {
   "codemirror_mode": {
    "name": "ipython",
    "version": 3
   },
   "file_extension": ".py",
   "mimetype": "text/x-python",
   "name": "python",
   "nbconvert_exporter": "python",
   "pygments_lexer": "ipython3",
   "version": "3.7.7"
  }
 },
 "nbformat": 4,
 "nbformat_minor": 4
}
