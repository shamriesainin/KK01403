{
 "cells": [
  {
   "cell_type": "code",
   "execution_count": null,
   "metadata": {},
   "outputs": [],
   "source": [
    "pip install sko"
   ]
  },
  {
   "cell_type": "code",
   "execution_count": 9,
   "metadata": {
    "scrolled": true
   },
   "outputs": [
    {
     "name": "stdout",
     "output_type": "stream",
     "text": [
      "Best path     : [ 0  4  9  5  8  7 10  3  2  1  6 11]\n",
      "Best distance : 3.17212764836696\n"
     ]
    },
    {
     "data": {
      "image/png": "[encoded data removed]",
      "text/plain": [
       "<Figure size 432x288 with 2 Axes>"
      ]
     },
     "metadata": {
      "needs_background": "light"
     },
     "output_type": "display_data"
    }
   ],
   "source": [
    "from __future__ import division\n",
    "import numpy as np\n",
    "from scipy import spatial\n",
    "import pandas as pd\n",
    "import matplotlib.pyplot as plt\n",
    "from sko.ACA import ACA_TSP\n",
    "\n",
    "#number of points/cities \n",
    "num_points = 12\n",
    "\n",
    "# generate coordinate of points (coordinate of x and y)\n",
    "points_coordinate = np.random.rand(num_points, 2)  \n",
    "#calculate the distance matrix of the points\n",
    "distance_matrix = spatial.distance.cdist(points_coordinate, \n",
    "                points_coordinate, metric='euclidean')\n",
    "\n",
    "#[0,1,2,3,4,5,6,7,8,9,10,11] = total distance?\n",
    "#[3,4,9,6,7,5..]\n",
    "def cal_total_distance(routine):\n",
    "    num_points, = routine.shape\n",
    "    return sum([distance_matrix[routine[i % num_points], \n",
    "            routine[(i + 1) % num_points]] for i in range(num_points)])\n",
    "\n",
    "def main():\n",
    "    aca = ACA_TSP(func=cal_total_distance, n_dim=num_points,\n",
    "                  size_pop=3, max_iter=10,\n",
    "                  distance_matrix=distance_matrix)\n",
    "    best_x, best_y = aca.run()\n",
    "    print(\"Best path     :\", best_x)\n",
    "    print(\"Best distance :\", best_y)\n",
    "    # Plot the result\n",
    "    fig, ax = plt.subplots(1, 2)\n",
    "    best_points_ = np.concatenate([best_x, [best_x[0]]])\n",
    "    best_points_coordinate = points_coordinate[best_points_, :]\n",
    "    for index in range(0, len(best_points_)):\n",
    "        ax[0].annotate(best_points_[index], \n",
    "                       (best_points_coordinate[index, 0], \n",
    "                        best_points_coordinate[index, 1]))\n",
    "    ax[0].plot(best_points_coordinate[:, 0], \n",
    "               best_points_coordinate[:, 1], 'o-r')\n",
    "    pd.DataFrame(aca.y_best_history).cummin().plot(ax=ax[1])\n",
    "    plt.show()\n",
    "\n",
    "\n",
    "if __name__ == \"__main__\":\n",
    "    main()"
   ]
  },
  {
   "cell_type": "markdown",
   "metadata": {},
   "source": [
    "## Question\n",
    "1. What parameters you can modify in the function to get the best path?\n",
    "2. What is the best parameters you can get?\n",
    "3. What is the heuristic function in the code?\n",
    "\n",
    "## Exercise\n",
    "How do you modify the above code to include your own list of points instead of random points?\n",
    "1. Use fixed points of 12 instead of random points, write to the code and run the code. Inspect the result.  \n",
    "2. Run with different parameter values and inspect the result.\n",
    "3. What is the best parameter values?"
   ]
  },
  {
   "cell_type": "code",
   "execution_count": null,
   "metadata": {},
   "outputs": [],
   "source": []
  }
 ],
 "metadata": {
  "kernelspec": {
   "display_name": "Python 3",
   "language": "python",
   "name": "python3"
  },
  "language_info": {
   "codemirror_mode": {
    "name": "ipython",
    "version": 3
   },
   "file_extension": ".py",
   "mimetype": "text/x-python",
   "name": "python",
   "nbconvert_exporter": "python",
   "pygments_lexer": "ipython3",
   "version": "3.7.7"
  }
 },
 "nbformat": 4,
 "nbformat_minor": 4
}
